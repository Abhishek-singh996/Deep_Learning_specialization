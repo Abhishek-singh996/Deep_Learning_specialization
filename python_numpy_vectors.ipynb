{
 "cells": [
  {
   "cell_type": "code",
   "execution_count": 3,
   "metadata": {},
   "outputs": [
    {
     "name": "stdout",
     "output_type": "stream",
     "text": [
      "[-1.31600446  0.60882733 -0.17180406 -0.91489499  0.20808503]\n"
     ]
    }
   ],
   "source": [
    "import numpy as np\n",
    "A = np.random.randn(5)  ## rank 1 array  // don't use this shape of array in future\n",
    "print(A)"
   ]
  },
  {
   "cell_type": "code",
   "execution_count": 4,
   "metadata": {},
   "outputs": [
    {
     "name": "stdout",
     "output_type": "stream",
     "text": [
      "(5,)\n"
     ]
    }
   ],
   "source": [
    "print(A.shape)"
   ]
  },
  {
   "cell_type": "code",
   "execution_count": 5,
   "metadata": {},
   "outputs": [
    {
     "name": "stdout",
     "output_type": "stream",
     "text": [
      "[-1.31600446  0.60882733 -0.17180406 -0.91489499  0.20808503]\n"
     ]
    }
   ],
   "source": [
    "print(A.T)"
   ]
  },
  {
   "cell_type": "code",
   "execution_count": 6,
   "metadata": {},
   "outputs": [
    {
     "name": "stdout",
     "output_type": "stream",
     "text": [
      "[[ 0.11942128]\n",
      " [-0.53079616]\n",
      " [-1.04732835]\n",
      " [ 0.28005047]\n",
      " [ 0.09818404]]\n"
     ]
    }
   ],
   "source": [
    "A = np.random.randn(5,1)\n",
    "print(A)"
   ]
  },
  {
   "cell_type": "code",
   "execution_count": 7,
   "metadata": {},
   "outputs": [
    {
     "name": "stdout",
     "output_type": "stream",
     "text": [
      "[[ 0.11942128 -0.53079616 -1.04732835  0.28005047  0.09818404]]\n"
     ]
    }
   ],
   "source": [
    "print(A.T)"
   ]
  },
  {
   "cell_type": "code",
   "execution_count": 8,
   "metadata": {},
   "outputs": [
    {
     "name": "stdout",
     "output_type": "stream",
     "text": [
      "(5, 1)\n"
     ]
    }
   ],
   "source": [
    "print(A.shape)"
   ]
  },
  {
   "cell_type": "code",
   "execution_count": 11,
   "metadata": {},
   "outputs": [
    {
     "name": "stdout",
     "output_type": "stream",
     "text": [
      "[[ 0.01426144 -0.06338836 -0.12507329  0.03344399  0.01172526]\n",
      " [-0.06338836  0.28174456  0.55591787 -0.14864972 -0.05211571]\n",
      " [-0.12507329  0.55591787  1.09689667 -0.2933048  -0.10283093]\n",
      " [ 0.03344399 -0.14864972 -0.2933048   0.07842827  0.02749649]\n",
      " [ 0.01172526 -0.05211571 -0.10283093  0.02749649  0.00964011]]\n"
     ]
    }
   ],
   "source": [
    "print(np.dot(A,A.T))"
   ]
  },
  {
   "cell_type": "code",
   "execution_count": 13,
   "metadata": {},
   "outputs": [
    {
     "data": {
      "text/plain": [
       "array([[ 0.01426144, -0.06338836, -0.12507329,  0.03344399,  0.01172526],\n",
       "       [-0.06338836,  0.28174456,  0.55591787, -0.14864972, -0.05211571],\n",
       "       [-0.12507329,  0.55591787,  1.09689667, -0.2933048 , -0.10283093],\n",
       "       [ 0.03344399, -0.14864972, -0.2933048 ,  0.07842827,  0.02749649],\n",
       "       [ 0.01172526, -0.05211571, -0.10283093,  0.02749649,  0.00964011]])"
      ]
     },
     "execution_count": 13,
     "metadata": {},
     "output_type": "execute_result"
    }
   ],
   "source": [
    "A*A.T"
   ]
  },
  {
   "cell_type": "code",
   "execution_count": 18,
   "metadata": {},
   "outputs": [],
   "source": [
    "assert (A.shape==(5,1))"
   ]
  },
  {
   "cell_type": "code",
   "execution_count": 20,
   "metadata": {},
   "outputs": [
    {
     "data": {
      "text/plain": [
       "array([[ 0.11942128, -0.53079616, -1.04732835,  0.28005047,  0.09818404]])"
      ]
     },
     "execution_count": 20,
     "metadata": {},
     "output_type": "execute_result"
    }
   ],
   "source": [
    "a  = A.reshape(1,5)\n",
    "a"
   ]
  },
  {
   "cell_type": "code",
   "execution_count": 26,
   "metadata": {},
   "outputs": [
    {
     "data": {
      "text/plain": [
       "array([[[0.85906179, 0.14767168],\n",
       "        [0.99272028, 0.13490535]],\n",
       "\n",
       "       [[0.94882761, 0.53688651],\n",
       "        [0.8565314 , 0.7513359 ]]])"
      ]
     },
     "execution_count": 26,
     "metadata": {},
     "output_type": "execute_result"
    }
   ],
   "source": [
    "x = np.random.rand(8,1)\n",
    "x.reshape(2,2,2)"
   ]
  },
  {
   "cell_type": "code",
   "execution_count": null,
   "metadata": {},
   "outputs": [],
   "source": []
  }
 ],
 "metadata": {
  "kernelspec": {
   "display_name": "deep_dive",
   "language": "python",
   "name": "python3"
  },
  "language_info": {
   "codemirror_mode": {
    "name": "ipython",
    "version": 3
   },
   "file_extension": ".py",
   "mimetype": "text/x-python",
   "name": "python",
   "nbconvert_exporter": "python",
   "pygments_lexer": "ipython3",
   "version": "3.9.15"
  },
  "orig_nbformat": 4,
  "vscode": {
   "interpreter": {
    "hash": "eb08a34c302cc27a4d23545ca3618b33f7d05e4192c0f50f032f1e9033ce8b7f"
   }
  }
 },
 "nbformat": 4,
 "nbformat_minor": 2
}
